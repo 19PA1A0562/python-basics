{
  "nbformat": 4,
  "nbformat_minor": 0,
  "metadata": {
    "colab": {
      "name": "Untitled13.ipynb",
      "provenance": [],
      "authorship_tag": "ABX9TyMjzMIbki5x8fq5RysMNFtX",
      "include_colab_link": true
    },
    "kernelspec": {
      "name": "python3",
      "display_name": "Python 3"
    }
  },
  "cells": [
    {
      "cell_type": "markdown",
      "metadata": {
        "id": "view-in-github",
        "colab_type": "text"
      },
      "source": [
        "<a href=\"https://colab.research.google.com/github/19PA1A0562/python-basics/blob/master/Untitled13.ipynb\" target=\"_parent\"><img src=\"https://colab.research.google.com/assets/colab-badge.svg\" alt=\"Open In Colab\"/></a>"
      ]
    },
    {
      "cell_type": "code",
      "metadata": {
        "id": "k2JsAQgIqeTK",
        "colab_type": "code",
        "colab": {}
      },
      "source": [
        "# Import the required packages\n",
        "import pandas as pd # for handling data in the form of tables\n",
        "import numpy as np # For handling matrix\n",
        "from sklearn.model_selection import train_test_split # For spliting the data into train and test\n",
        "from sklearn.linear_model import LinearRegression # for using the model\n",
        "import matplotlib.pyplot as plt # for plotting\n",
        "from sklearn.metrics import mean_squared_error\n"
      ],
      "execution_count": 0,
      "outputs": []
    },
    {
      "cell_type": "code",
      "metadata": {
        "id": "9n8yX1Faqxkg",
        "colab_type": "code",
        "outputId": "847cea14-9606-4ef0-98bb-2a64a7f03593",
        "colab": {
          "base_uri": "https://localhost:8080/",
          "height": 405
        }
      },
      "source": [
        "data=pd.read_csv(\"students_placement_data.csv\")\n",
        "data"
      ],
      "execution_count": 0,
      "outputs": [
        {
          "output_type": "execute_result",
          "data": {
            "text/html": [
              "<div>\n",
              "<style scoped>\n",
              "    .dataframe tbody tr th:only-of-type {\n",
              "        vertical-align: middle;\n",
              "    }\n",
              "\n",
              "    .dataframe tbody tr th {\n",
              "        vertical-align: top;\n",
              "    }\n",
              "\n",
              "    .dataframe thead th {\n",
              "        text-align: right;\n",
              "    }\n",
              "</style>\n",
              "<table border=\"1\" class=\"dataframe\">\n",
              "  <thead>\n",
              "    <tr style=\"text-align: right;\">\n",
              "      <th></th>\n",
              "      <th>Roll No</th>\n",
              "      <th>Gender</th>\n",
              "      <th>Section</th>\n",
              "      <th>SSC Percentage</th>\n",
              "      <th>inter_Diploma_percentage</th>\n",
              "      <th>B.Tech_percentage</th>\n",
              "      <th>Backlogs</th>\n",
              "      <th>registered_for_ Placement_Training</th>\n",
              "      <th>placement status</th>\n",
              "    </tr>\n",
              "  </thead>\n",
              "  <tbody>\n",
              "    <tr>\n",
              "      <th>0</th>\n",
              "      <td>1</td>\n",
              "      <td>M</td>\n",
              "      <td>A</td>\n",
              "      <td>87.3</td>\n",
              "      <td>65.30</td>\n",
              "      <td>40.00</td>\n",
              "      <td>18</td>\n",
              "      <td>NO</td>\n",
              "      <td>Not placed</td>\n",
              "    </tr>\n",
              "    <tr>\n",
              "      <th>1</th>\n",
              "      <td>2</td>\n",
              "      <td>F</td>\n",
              "      <td>A</td>\n",
              "      <td>89.0</td>\n",
              "      <td>92.40</td>\n",
              "      <td>71.45</td>\n",
              "      <td>0</td>\n",
              "      <td>yes</td>\n",
              "      <td>Placed</td>\n",
              "    </tr>\n",
              "    <tr>\n",
              "      <th>2</th>\n",
              "      <td>3</td>\n",
              "      <td>F</td>\n",
              "      <td>A</td>\n",
              "      <td>67.0</td>\n",
              "      <td>68.00</td>\n",
              "      <td>45.26</td>\n",
              "      <td>13</td>\n",
              "      <td>yes</td>\n",
              "      <td>Not placed</td>\n",
              "    </tr>\n",
              "    <tr>\n",
              "      <th>3</th>\n",
              "      <td>4</td>\n",
              "      <td>M</td>\n",
              "      <td>A</td>\n",
              "      <td>71.0</td>\n",
              "      <td>70.40</td>\n",
              "      <td>36.47</td>\n",
              "      <td>17</td>\n",
              "      <td>yes</td>\n",
              "      <td>Not placed</td>\n",
              "    </tr>\n",
              "    <tr>\n",
              "      <th>4</th>\n",
              "      <td>5</td>\n",
              "      <td>M</td>\n",
              "      <td>A</td>\n",
              "      <td>67.0</td>\n",
              "      <td>65.50</td>\n",
              "      <td>42.52</td>\n",
              "      <td>17</td>\n",
              "      <td>yes</td>\n",
              "      <td>Not placed</td>\n",
              "    </tr>\n",
              "    <tr>\n",
              "      <th>...</th>\n",
              "      <td>...</td>\n",
              "      <td>...</td>\n",
              "      <td>...</td>\n",
              "      <td>...</td>\n",
              "      <td>...</td>\n",
              "      <td>...</td>\n",
              "      <td>...</td>\n",
              "      <td>...</td>\n",
              "      <td>...</td>\n",
              "    </tr>\n",
              "    <tr>\n",
              "      <th>112</th>\n",
              "      <td>113</td>\n",
              "      <td>M</td>\n",
              "      <td>B</td>\n",
              "      <td>81.1</td>\n",
              "      <td>78.60</td>\n",
              "      <td>35.84</td>\n",
              "      <td>16</td>\n",
              "      <td>NO</td>\n",
              "      <td>Not placed</td>\n",
              "    </tr>\n",
              "    <tr>\n",
              "      <th>113</th>\n",
              "      <td>114</td>\n",
              "      <td>M</td>\n",
              "      <td>B</td>\n",
              "      <td>81.3</td>\n",
              "      <td>85.12</td>\n",
              "      <td>68.50</td>\n",
              "      <td>0</td>\n",
              "      <td>NO</td>\n",
              "      <td>Not placed</td>\n",
              "    </tr>\n",
              "    <tr>\n",
              "      <th>114</th>\n",
              "      <td>115</td>\n",
              "      <td>M</td>\n",
              "      <td>B</td>\n",
              "      <td>83.5</td>\n",
              "      <td>89.90</td>\n",
              "      <td>76.30</td>\n",
              "      <td>0</td>\n",
              "      <td>NO</td>\n",
              "      <td>Not placed</td>\n",
              "    </tr>\n",
              "    <tr>\n",
              "      <th>115</th>\n",
              "      <td>116</td>\n",
              "      <td>M</td>\n",
              "      <td>B</td>\n",
              "      <td>85.5</td>\n",
              "      <td>90.63</td>\n",
              "      <td>74.50</td>\n",
              "      <td>0</td>\n",
              "      <td>NO</td>\n",
              "      <td>Not placed</td>\n",
              "    </tr>\n",
              "    <tr>\n",
              "      <th>116</th>\n",
              "      <td>117</td>\n",
              "      <td>M</td>\n",
              "      <td>B</td>\n",
              "      <td>80.0</td>\n",
              "      <td>83.33</td>\n",
              "      <td>65.53</td>\n",
              "      <td>0</td>\n",
              "      <td>NO</td>\n",
              "      <td>Not placed</td>\n",
              "    </tr>\n",
              "  </tbody>\n",
              "</table>\n",
              "<p>117 rows × 9 columns</p>\n",
              "</div>"
            ],
            "text/plain": [
              "     Roll No Gender  ... registered_for_ Placement_Training  placement status\n",
              "0          1      M  ...                                 NO        Not placed\n",
              "1          2      F  ...                                yes            Placed\n",
              "2          3      F  ...                                yes        Not placed\n",
              "3          4      M  ...                                yes        Not placed\n",
              "4          5      M  ...                                yes        Not placed\n",
              "..       ...    ...  ...                                ...               ...\n",
              "112      113      M  ...                                 NO        Not placed\n",
              "113      114      M  ...                                 NO        Not placed\n",
              "114      115      M  ...                                 NO        Not placed\n",
              "115      116      M  ...                                 NO        Not placed\n",
              "116      117      M  ...                                 NO        Not placed\n",
              "\n",
              "[117 rows x 9 columns]"
            ]
          },
          "metadata": {
            "tags": []
          },
          "execution_count": 3
        }
      ]
    },
    {
      "cell_type": "code",
      "metadata": {
        "id": "lZ857HFprN6e",
        "colab_type": "code",
        "colab": {}
      },
      "source": [
        "x=data[\"SSC Percentage\"].values.reshape(-1,1)\n",
        "y=data[\"B.Tech_percentage\"].values.reshape(-1,1)"
      ],
      "execution_count": 0,
      "outputs": []
    },
    {
      "cell_type": "code",
      "metadata": {
        "id": "-Ddyx8Nnrmk4",
        "colab_type": "code",
        "colab": {}
      },
      "source": [
        "x_train,x_test,y_train,y_test=train_test_split(x,y,test_size=0.2,random_state=0)"
      ],
      "execution_count": 0,
      "outputs": []
    },
    {
      "cell_type": "code",
      "metadata": {
        "id": "tXhFl9Qjr8Ig",
        "colab_type": "code",
        "outputId": "553d6043-58a9-4c7c-aaeb-4fe617076855",
        "colab": {
          "base_uri": "https://localhost:8080/",
          "height": 34
        }
      },
      "source": [
        "a=LinearRegression()\n",
        "a.fit(x_train,y_train)"
      ],
      "execution_count": 0,
      "outputs": [
        {
          "output_type": "execute_result",
          "data": {
            "text/plain": [
              "LinearRegression(copy_X=True, fit_intercept=True, n_jobs=None, normalize=False)"
            ]
          },
          "metadata": {
            "tags": []
          },
          "execution_count": 15
        }
      ]
    },
    {
      "cell_type": "code",
      "metadata": {
        "id": "dlxJZU_WswXP",
        "colab_type": "code",
        "outputId": "64a80276-23c2-4321-e92e-f0bbe6a07490",
        "colab": {
          "base_uri": "https://localhost:8080/",
          "height": 448
        }
      },
      "source": [
        "c=a.predict(x_test)\n",
        "c"
      ],
      "execution_count": 0,
      "outputs": [
        {
          "output_type": "execute_result",
          "data": {
            "text/plain": [
              "array([[64.00954749],\n",
              "       [70.14368267],\n",
              "       [61.80037516],\n",
              "       [64.62075184],\n",
              "       [65.85052444],\n",
              "       [40.68805155],\n",
              "       [67.5221315 ],\n",
              "       [63.10378684],\n",
              "       [62.51467421],\n",
              "       [69.16428294],\n",
              "       [64.25255645],\n",
              "       [52.72067686],\n",
              "       [67.75777655],\n",
              "       [66.82992417],\n",
              "       [62.29375698],\n",
              "       [60.3275936 ],\n",
              "       [56.40263075],\n",
              "       [58.97999848],\n",
              "       [66.21871983],\n",
              "       [68.30270573],\n",
              "       [67.44849243],\n",
              "       [49.03872297],\n",
              "       [67.5221315 ],\n",
              "       [66.71210165]])"
            ]
          },
          "metadata": {
            "tags": []
          },
          "execution_count": 16
        }
      ]
    },
    {
      "cell_type": "code",
      "metadata": {
        "id": "xZAIEiCps_Lo",
        "colab_type": "code",
        "outputId": "2e6afa50-6b05-445e-ddff-8e22dd00f131",
        "colab": {
          "base_uri": "https://localhost:8080/",
          "height": 730
        }
      },
      "source": [
        "b=pd.DataFrame({\"Actual\":y_test.flatten(),\"Predicted\":c.flatten()})\n",
        "b"
      ],
      "execution_count": 0,
      "outputs": [
        {
          "output_type": "execute_result",
          "data": {
            "text/html": [
              "<div>\n",
              "<style scoped>\n",
              "    .dataframe tbody tr th:only-of-type {\n",
              "        vertical-align: middle;\n",
              "    }\n",
              "\n",
              "    .dataframe tbody tr th {\n",
              "        vertical-align: top;\n",
              "    }\n",
              "\n",
              "    .dataframe thead th {\n",
              "        text-align: right;\n",
              "    }\n",
              "</style>\n",
              "<table border=\"1\" class=\"dataframe\">\n",
              "  <thead>\n",
              "    <tr style=\"text-align: right;\">\n",
              "      <th></th>\n",
              "      <th>Actual</th>\n",
              "      <th>Predicted</th>\n",
              "    </tr>\n",
              "  </thead>\n",
              "  <tbody>\n",
              "    <tr>\n",
              "      <th>0</th>\n",
              "      <td>71.49</td>\n",
              "      <td>64.009547</td>\n",
              "    </tr>\n",
              "    <tr>\n",
              "      <th>1</th>\n",
              "      <td>81.10</td>\n",
              "      <td>70.143683</td>\n",
              "    </tr>\n",
              "    <tr>\n",
              "      <th>2</th>\n",
              "      <td>62.98</td>\n",
              "      <td>61.800375</td>\n",
              "    </tr>\n",
              "    <tr>\n",
              "      <th>3</th>\n",
              "      <td>68.70</td>\n",
              "      <td>64.620752</td>\n",
              "    </tr>\n",
              "    <tr>\n",
              "      <th>4</th>\n",
              "      <td>61.02</td>\n",
              "      <td>65.850524</td>\n",
              "    </tr>\n",
              "    <tr>\n",
              "      <th>5</th>\n",
              "      <td>60.53</td>\n",
              "      <td>40.688052</td>\n",
              "    </tr>\n",
              "    <tr>\n",
              "      <th>6</th>\n",
              "      <td>61.00</td>\n",
              "      <td>67.522132</td>\n",
              "    </tr>\n",
              "    <tr>\n",
              "      <th>7</th>\n",
              "      <td>35.84</td>\n",
              "      <td>63.103787</td>\n",
              "    </tr>\n",
              "    <tr>\n",
              "      <th>8</th>\n",
              "      <td>68.30</td>\n",
              "      <td>62.514674</td>\n",
              "    </tr>\n",
              "    <tr>\n",
              "      <th>9</th>\n",
              "      <td>69.62</td>\n",
              "      <td>69.164283</td>\n",
              "    </tr>\n",
              "    <tr>\n",
              "      <th>10</th>\n",
              "      <td>83.38</td>\n",
              "      <td>64.252556</td>\n",
              "    </tr>\n",
              "    <tr>\n",
              "      <th>11</th>\n",
              "      <td>45.26</td>\n",
              "      <td>52.720677</td>\n",
              "    </tr>\n",
              "    <tr>\n",
              "      <th>12</th>\n",
              "      <td>78.00</td>\n",
              "      <td>67.757777</td>\n",
              "    </tr>\n",
              "    <tr>\n",
              "      <th>13</th>\n",
              "      <td>54.18</td>\n",
              "      <td>66.829924</td>\n",
              "    </tr>\n",
              "    <tr>\n",
              "      <th>14</th>\n",
              "      <td>65.53</td>\n",
              "      <td>62.293757</td>\n",
              "    </tr>\n",
              "    <tr>\n",
              "      <th>15</th>\n",
              "      <td>52.00</td>\n",
              "      <td>60.327594</td>\n",
              "    </tr>\n",
              "    <tr>\n",
              "      <th>16</th>\n",
              "      <td>51.00</td>\n",
              "      <td>56.402631</td>\n",
              "    </tr>\n",
              "    <tr>\n",
              "      <th>17</th>\n",
              "      <td>73.13</td>\n",
              "      <td>58.979998</td>\n",
              "    </tr>\n",
              "    <tr>\n",
              "      <th>18</th>\n",
              "      <td>74.30</td>\n",
              "      <td>66.218720</td>\n",
              "    </tr>\n",
              "    <tr>\n",
              "      <th>19</th>\n",
              "      <td>63.41</td>\n",
              "      <td>68.302706</td>\n",
              "    </tr>\n",
              "    <tr>\n",
              "      <th>20</th>\n",
              "      <td>70.01</td>\n",
              "      <td>67.448492</td>\n",
              "    </tr>\n",
              "    <tr>\n",
              "      <th>21</th>\n",
              "      <td>55.70</td>\n",
              "      <td>49.038723</td>\n",
              "    </tr>\n",
              "    <tr>\n",
              "      <th>22</th>\n",
              "      <td>74.96</td>\n",
              "      <td>67.522132</td>\n",
              "    </tr>\n",
              "    <tr>\n",
              "      <th>23</th>\n",
              "      <td>70.85</td>\n",
              "      <td>66.712102</td>\n",
              "    </tr>\n",
              "  </tbody>\n",
              "</table>\n",
              "</div>"
            ],
            "text/plain": [
              "    Actual  Predicted\n",
              "0    71.49  64.009547\n",
              "1    81.10  70.143683\n",
              "2    62.98  61.800375\n",
              "3    68.70  64.620752\n",
              "4    61.02  65.850524\n",
              "5    60.53  40.688052\n",
              "6    61.00  67.522132\n",
              "7    35.84  63.103787\n",
              "8    68.30  62.514674\n",
              "9    69.62  69.164283\n",
              "10   83.38  64.252556\n",
              "11   45.26  52.720677\n",
              "12   78.00  67.757777\n",
              "13   54.18  66.829924\n",
              "14   65.53  62.293757\n",
              "15   52.00  60.327594\n",
              "16   51.00  56.402631\n",
              "17   73.13  58.979998\n",
              "18   74.30  66.218720\n",
              "19   63.41  68.302706\n",
              "20   70.01  67.448492\n",
              "21   55.70  49.038723\n",
              "22   74.96  67.522132\n",
              "23   70.85  66.712102"
            ]
          },
          "metadata": {
            "tags": []
          },
          "execution_count": 19
        }
      ]
    },
    {
      "cell_type": "code",
      "metadata": {
        "id": "2c9YdhPStbq4",
        "colab_type": "code",
        "outputId": "69c03e54-46c9-4e98-aa58-b1a2cbf10907",
        "colab": {
          "base_uri": "https://localhost:8080/",
          "height": 34
        }
      },
      "source": [
        "print(mean_squared_error(y_test,c))"
      ],
      "execution_count": 0,
      "outputs": [
        {
          "output_type": "stream",
          "text": [
            "109.95407980481782\n"
          ],
          "name": "stdout"
        }
      ]
    },
    {
      "cell_type": "code",
      "metadata": {
        "id": "yuucwtjUt69K",
        "colab_type": "code",
        "colab": {}
      },
      "source": [
        "x=data[\"inter_Diploma_percentage\"].values.reshape(-1,1)\n",
        "y=data[\"B.Tech_percentage\"].values.reshape(-1,1)"
      ],
      "execution_count": 0,
      "outputs": []
    },
    {
      "cell_type": "code",
      "metadata": {
        "id": "HStl1WqWuIvw",
        "colab_type": "code",
        "colab": {}
      },
      "source": [
        "x_train,x_test,y_train,y_test=train_test_split(x,y,test_size=0.2,random_state=0)"
      ],
      "execution_count": 0,
      "outputs": []
    },
    {
      "cell_type": "code",
      "metadata": {
        "id": "R_Hm-NFnuS3g",
        "colab_type": "code",
        "outputId": "e3efff5d-6687-473a-972c-54e0fd8c93e6",
        "colab": {
          "base_uri": "https://localhost:8080/",
          "height": 34
        }
      },
      "source": [
        "a=LinearRegression()\n",
        "a.fit(x_train,y_train)"
      ],
      "execution_count": 0,
      "outputs": [
        {
          "output_type": "execute_result",
          "data": {
            "text/plain": [
              "LinearRegression(copy_X=True, fit_intercept=True, n_jobs=None, normalize=False)"
            ]
          },
          "metadata": {
            "tags": []
          },
          "execution_count": 24
        }
      ]
    },
    {
      "cell_type": "code",
      "metadata": {
        "id": "FrZco2X1ug4p",
        "colab_type": "code",
        "outputId": "38fd2057-2b2d-44c2-8b94-5fc1fc8db031",
        "colab": {
          "base_uri": "https://localhost:8080/",
          "height": 448
        }
      },
      "source": [
        "c=a.predict(x_test)\n",
        "c"
      ],
      "execution_count": 0,
      "outputs": [
        {
          "output_type": "execute_result",
          "data": {
            "text/plain": [
              "array([[58.92376179],\n",
              "       [73.8353596 ],\n",
              "       [46.60548533],\n",
              "       [61.84124832],\n",
              "       [61.35500056],\n",
              "       [41.01363615],\n",
              "       [62.73270253],\n",
              "       [60.78771152],\n",
              "       [64.35352838],\n",
              "       [68.89184076],\n",
              "       [69.70225369],\n",
              "       [52.19733451],\n",
              "       [71.80932729],\n",
              "       [67.75726267],\n",
              "       [64.62096465],\n",
              "       [59.08584437],\n",
              "       [62.73270253],\n",
              "       [63.29999158],\n",
              "       [70.99891437],\n",
              "       [62.0033309 ],\n",
              "       [65.97435423],\n",
              "       [54.55563612],\n",
              "       [68.97288205],\n",
              "       [72.05245117]])"
            ]
          },
          "metadata": {
            "tags": []
          },
          "execution_count": 25
        }
      ]
    },
    {
      "cell_type": "code",
      "metadata": {
        "id": "kqIlQwUsukbp",
        "colab_type": "code",
        "outputId": "f7bfb0b0-fc57-4bc3-e6a1-43d2c1f37cef",
        "colab": {
          "base_uri": "https://localhost:8080/",
          "height": 730
        }
      },
      "source": [
        "b=pd.DataFrame({\"Actual\":y_test.flatten(),\"Predicted\":c.flatten()})\n",
        "b"
      ],
      "execution_count": 0,
      "outputs": [
        {
          "output_type": "execute_result",
          "data": {
            "text/html": [
              "<div>\n",
              "<style scoped>\n",
              "    .dataframe tbody tr th:only-of-type {\n",
              "        vertical-align: middle;\n",
              "    }\n",
              "\n",
              "    .dataframe tbody tr th {\n",
              "        vertical-align: top;\n",
              "    }\n",
              "\n",
              "    .dataframe thead th {\n",
              "        text-align: right;\n",
              "    }\n",
              "</style>\n",
              "<table border=\"1\" class=\"dataframe\">\n",
              "  <thead>\n",
              "    <tr style=\"text-align: right;\">\n",
              "      <th></th>\n",
              "      <th>Actual</th>\n",
              "      <th>Predicted</th>\n",
              "    </tr>\n",
              "  </thead>\n",
              "  <tbody>\n",
              "    <tr>\n",
              "      <th>0</th>\n",
              "      <td>71.49</td>\n",
              "      <td>58.923762</td>\n",
              "    </tr>\n",
              "    <tr>\n",
              "      <th>1</th>\n",
              "      <td>81.10</td>\n",
              "      <td>73.835360</td>\n",
              "    </tr>\n",
              "    <tr>\n",
              "      <th>2</th>\n",
              "      <td>62.98</td>\n",
              "      <td>46.605485</td>\n",
              "    </tr>\n",
              "    <tr>\n",
              "      <th>3</th>\n",
              "      <td>68.70</td>\n",
              "      <td>61.841248</td>\n",
              "    </tr>\n",
              "    <tr>\n",
              "      <th>4</th>\n",
              "      <td>61.02</td>\n",
              "      <td>61.355001</td>\n",
              "    </tr>\n",
              "    <tr>\n",
              "      <th>5</th>\n",
              "      <td>60.53</td>\n",
              "      <td>41.013636</td>\n",
              "    </tr>\n",
              "    <tr>\n",
              "      <th>6</th>\n",
              "      <td>61.00</td>\n",
              "      <td>62.732703</td>\n",
              "    </tr>\n",
              "    <tr>\n",
              "      <th>7</th>\n",
              "      <td>35.84</td>\n",
              "      <td>60.787712</td>\n",
              "    </tr>\n",
              "    <tr>\n",
              "      <th>8</th>\n",
              "      <td>68.30</td>\n",
              "      <td>64.353528</td>\n",
              "    </tr>\n",
              "    <tr>\n",
              "      <th>9</th>\n",
              "      <td>69.62</td>\n",
              "      <td>68.891841</td>\n",
              "    </tr>\n",
              "    <tr>\n",
              "      <th>10</th>\n",
              "      <td>83.38</td>\n",
              "      <td>69.702254</td>\n",
              "    </tr>\n",
              "    <tr>\n",
              "      <th>11</th>\n",
              "      <td>45.26</td>\n",
              "      <td>52.197335</td>\n",
              "    </tr>\n",
              "    <tr>\n",
              "      <th>12</th>\n",
              "      <td>78.00</td>\n",
              "      <td>71.809327</td>\n",
              "    </tr>\n",
              "    <tr>\n",
              "      <th>13</th>\n",
              "      <td>54.18</td>\n",
              "      <td>67.757263</td>\n",
              "    </tr>\n",
              "    <tr>\n",
              "      <th>14</th>\n",
              "      <td>65.53</td>\n",
              "      <td>64.620965</td>\n",
              "    </tr>\n",
              "    <tr>\n",
              "      <th>15</th>\n",
              "      <td>52.00</td>\n",
              "      <td>59.085844</td>\n",
              "    </tr>\n",
              "    <tr>\n",
              "      <th>16</th>\n",
              "      <td>51.00</td>\n",
              "      <td>62.732703</td>\n",
              "    </tr>\n",
              "    <tr>\n",
              "      <th>17</th>\n",
              "      <td>73.13</td>\n",
              "      <td>63.299992</td>\n",
              "    </tr>\n",
              "    <tr>\n",
              "      <th>18</th>\n",
              "      <td>74.30</td>\n",
              "      <td>70.998914</td>\n",
              "    </tr>\n",
              "    <tr>\n",
              "      <th>19</th>\n",
              "      <td>63.41</td>\n",
              "      <td>62.003331</td>\n",
              "    </tr>\n",
              "    <tr>\n",
              "      <th>20</th>\n",
              "      <td>70.01</td>\n",
              "      <td>65.974354</td>\n",
              "    </tr>\n",
              "    <tr>\n",
              "      <th>21</th>\n",
              "      <td>55.70</td>\n",
              "      <td>54.555636</td>\n",
              "    </tr>\n",
              "    <tr>\n",
              "      <th>22</th>\n",
              "      <td>74.96</td>\n",
              "      <td>68.972882</td>\n",
              "    </tr>\n",
              "    <tr>\n",
              "      <th>23</th>\n",
              "      <td>70.85</td>\n",
              "      <td>72.052451</td>\n",
              "    </tr>\n",
              "  </tbody>\n",
              "</table>\n",
              "</div>"
            ],
            "text/plain": [
              "    Actual  Predicted\n",
              "0    71.49  58.923762\n",
              "1    81.10  73.835360\n",
              "2    62.98  46.605485\n",
              "3    68.70  61.841248\n",
              "4    61.02  61.355001\n",
              "5    60.53  41.013636\n",
              "6    61.00  62.732703\n",
              "7    35.84  60.787712\n",
              "8    68.30  64.353528\n",
              "9    69.62  68.891841\n",
              "10   83.38  69.702254\n",
              "11   45.26  52.197335\n",
              "12   78.00  71.809327\n",
              "13   54.18  67.757263\n",
              "14   65.53  64.620965\n",
              "15   52.00  59.085844\n",
              "16   51.00  62.732703\n",
              "17   73.13  63.299992\n",
              "18   74.30  70.998914\n",
              "19   63.41  62.003331\n",
              "20   70.01  65.974354\n",
              "21   55.70  54.555636\n",
              "22   74.96  68.972882\n",
              "23   70.85  72.052451"
            ]
          },
          "metadata": {
            "tags": []
          },
          "execution_count": 26
        }
      ]
    },
    {
      "cell_type": "code",
      "metadata": {
        "id": "VWzTi6Ybuvhw",
        "colab_type": "code",
        "outputId": "9bdd4e0b-1e5b-4fbe-b649-4d1560b21b94",
        "colab": {
          "base_uri": "https://localhost:8080/",
          "height": 34
        }
      },
      "source": [
        "print(mean_squared_error(y_test,c))"
      ],
      "execution_count": 0,
      "outputs": [
        {
          "output_type": "stream",
          "text": [
            "98.30444865156251\n"
          ],
          "name": "stdout"
        }
      ]
    },
    {
      "cell_type": "markdown",
      "metadata": {
        "id": "lFiFmf6ouy7g",
        "colab_type": "text"
      },
      "source": [
        "mean_squared_error for SSC Percentage and B.Tech_percentage  is 109.9\n",
        "\n",
        "mean_squared_error for inter_Diploma_Percentage and B.Tech_Percentage is 98.3\n",
        "\n",
        "so B.Tech_Percentage is more related to inter_Diploma_Percentage than SSC_Percentage "
      ]
    },
    {
      "cell_type": "markdown",
      "metadata": {
        "id": "Z1PNMuahv1JR",
        "colab_type": "text"
      },
      "source": [
        "DIFFERENCE BETWEEN BAIS AND VARIANCE ::\n",
        "    Bias is the same as the mean square error (MSE).Variance means if the model is not properly fitted it gives wrong values for test data .If the data is learned repeatedly by the model it has high variance.\n",
        "    If the data is not properly learned by the model it has low variance and high bias.\n",
        "    Models with high bias tend to underfit the training data while those with high variance tend to overfit.\n",
        "\n",
        "\n"
      ]
    },
    {
      "cell_type": "markdown",
      "metadata": {
        "id": "q2vgDlZVx-KF",
        "colab_type": "text"
      },
      "source": [
        "DIFFERENCE  BETWEEN TRAIN,TEST,SPLIT AND CROOSSVALIDATION ::\n",
        "\n",
        "\n",
        "Train_test_split :: train_test_split is a function in Sklearn model selection for splitting data arrays into two subsets: for training data and for testing data. With this function, you don't need to divide the dataset manually. By default, Sklearn train_test_split will make random partitions for the two subsets.\n",
        "\n",
        "\n",
        "CROSSVALIDATION ::\n",
        "k-Fold Cross-Validation is a resampling procedure used to evaluate machine learning models on a limited data sample. The procedure has a single parameter called k that refers to the number of groups that a given data sample is to be split into."
      ]
    }
  ]
}